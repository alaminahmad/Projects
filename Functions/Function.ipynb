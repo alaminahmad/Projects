{
 "cells": [
  {
   "cell_type": "code",
   "execution_count": 2,
   "id": "67fc4a60",
   "metadata": {},
   "outputs": [],
   "source": [
    "#Exercise 1"
   ]
  },
  {
   "cell_type": "code",
   "execution_count": 6,
   "id": "9528b207",
   "metadata": {},
   "outputs": [
    {
     "name": "stdout",
     "output_type": "stream",
     "text": [
      "I am learning about Function\n"
     ]
    }
   ],
   "source": [
    "def display_message():\n",
    "    return print('I am learning about Function')\n",
    "display_message()"
   ]
  },
  {
   "cell_type": "code",
   "execution_count": null,
   "id": "5753cb1f",
   "metadata": {},
   "outputs": [],
   "source": [
    "#Exercise 2"
   ]
  },
  {
   "cell_type": "code",
   "execution_count": 13,
   "id": "6f557231",
   "metadata": {},
   "outputs": [
    {
     "name": "stdout",
     "output_type": "stream",
     "text": [
      "One of my favourite books is Dombey and Sons\n"
     ]
    }
   ],
   "source": [
    "def favorite_book(title):\n",
    "    return print('One of my favourite books is {}'.format(title))\n",
    "favorite_book('Dombey and Sons')"
   ]
  },
  {
   "cell_type": "code",
   "execution_count": null,
   "id": "28ecd82e",
   "metadata": {},
   "outputs": [],
   "source": [
    "#Exercise 3"
   ]
  },
  {
   "cell_type": "code",
   "execution_count": 21,
   "id": "a6ad35e4",
   "metadata": {},
   "outputs": [
    {
     "name": "stdout",
     "output_type": "stream",
     "text": [
      "the size of the shirt is XL and the writing on it is Arewa Data Scientist\n"
     ]
    }
   ],
   "source": [
    "def make_shirt(size, text):\n",
    "    return print('the size of the shirt is {} and the writing on it is {}'.format(size, text))\n",
    "make_shirt('XL', 'Arewa Data Scientist')"
   ]
  },
  {
   "cell_type": "code",
   "execution_count": null,
   "id": "24e45781",
   "metadata": {},
   "outputs": [],
   "source": [
    "#Exercise 4"
   ]
  },
  {
   "cell_type": "code",
   "execution_count": 24,
   "id": "f1c141ba",
   "metadata": {},
   "outputs": [
    {
     "name": "stdout",
     "output_type": "stream",
     "text": [
      "the size of the shirt is Large and the writing on it is I love python\n",
      "the size of the shirt is medium and the writing on it is I love python\n",
      "the size of the shirt is Extra Large and the writing on it is I love volleyball\n"
     ]
    }
   ],
   "source": [
    "def make_shirt(size='Large', text='I love python'):\n",
    "    return print('the size of the shirt is {} and the writing on it is {}'.format(size, text))\n",
    "make_shirt()\n",
    "make_shirt(size='medium')\n",
    "make_shirt(size='Extra Large', text='I love volleyball')"
   ]
  },
  {
   "cell_type": "code",
   "execution_count": null,
   "id": "877c80a7",
   "metadata": {},
   "outputs": [],
   "source": [
    "#Exercise 5"
   ]
  },
  {
   "cell_type": "code",
   "execution_count": 27,
   "id": "4e24ad13",
   "metadata": {},
   "outputs": [
    {
     "name": "stdout",
     "output_type": "stream",
     "text": [
      "Abuja city is in Nigeria\n",
      "London city is in England\n",
      "New York city is in US\n"
     ]
    }
   ],
   "source": [
    "def describe_city(city, country='Nigeria'):\n",
    "    print('{} city is in {}'.format(city, country))\n",
    "describe_city('Abuja', 'Nigeria')\n",
    "describe_city('London', 'England')\n",
    "describe_city('New York', 'US')"
   ]
  },
  {
   "cell_type": "code",
   "execution_count": null,
   "id": "b101268f",
   "metadata": {},
   "outputs": [],
   "source": [
    "#Exercise 6"
   ]
  },
  {
   "cell_type": "code",
   "execution_count": 29,
   "id": "2bbe0802",
   "metadata": {},
   "outputs": [
    {
     "data": {
      "text/plain": [
       "('Abuja', 'Nigeria')"
      ]
     },
     "execution_count": 29,
     "metadata": {},
     "output_type": "execute_result"
    }
   ],
   "source": [
    "def city_country(city, country):\n",
    "    return city, country\n",
    "city_country('Abuja', 'Nigeria')  "
   ]
  },
  {
   "cell_type": "code",
   "execution_count": null,
   "id": "e5558987",
   "metadata": {},
   "outputs": [],
   "source": [
    "#Exercise 7"
   ]
  },
  {
   "cell_type": "code",
   "execution_count": 40,
   "id": "78a72022",
   "metadata": {},
   "outputs": [
    {
     "name": "stdout",
     "output_type": "stream",
     "text": [
      "{'artist name': 'Lil wayne', 'album_title': 'Craze'}\n",
      "{'artist name': 'P_Square', 'album_title': 'One_one'}\n",
      "{'artist name': '2_pac', 'album_title': 'world', 'no_songs': 33}\n"
     ]
    }
   ],
   "source": [
    "def make_album(artist_name, album_title, no_songs=None):\n",
    "    if no_songs!=None:\n",
    "        dic = {'artist name': artist_name, 'album_title': album_title, 'no_songs': no_songs}\n",
    "    else:\n",
    "        dic = {'artist name': artist_name, 'album_title': album_title}\n",
    "    return dic\n",
    "print(make_album('Lil wayne', 'Craze'))\n",
    "print(make_album('P_Square', 'One_one'))\n",
    "print(make_album('2_pac', 'world', 33))"
   ]
  },
  {
   "cell_type": "code",
   "execution_count": 48,
   "id": "49657562",
   "metadata": {},
   "outputs": [],
   "source": [
    "#Exercise 8"
   ]
  },
  {
   "cell_type": "code",
   "execution_count": 47,
   "id": "56a6885a",
   "metadata": {},
   "outputs": [
    {
     "name": "stdout",
     "output_type": "stream",
     "text": [
      "artist name\tMichael Jackson\n",
      "title name\tSong\n",
      "{'artist name': 'Michael Jackson', 'album_title': 'Song'}\n"
     ]
    }
   ],
   "source": [
    "while True:\n",
    "    artist_name = str(input('artist name\\t'))\n",
    "    album_title = str(input('title name\\t'))\n",
    "    print(make_album(artist_name, album_title))\n",
    "    break"
   ]
  },
  {
   "cell_type": "code",
   "execution_count": 49,
   "id": "29f8632a",
   "metadata": {},
   "outputs": [],
   "source": [
    "#Exercise 9"
   ]
  },
  {
   "cell_type": "code",
   "execution_count": 52,
   "id": "23fb10b4",
   "metadata": {},
   "outputs": [
    {
     "name": "stdout",
     "output_type": "stream",
     "text": [
      "this is cool\n",
      "am really learning\n",
      "programming is good\n"
     ]
    }
   ],
   "source": [
    "def show_messages(lists):\n",
    "    for i in lists:\n",
    "        print(i)\n",
    "lists = ['this is cool', 'am really learning', 'programming is good']\n",
    "show_messages(lists)"
   ]
  },
  {
   "cell_type": "code",
   "execution_count": 58,
   "id": "fc0c1de5",
   "metadata": {},
   "outputs": [],
   "source": [
    "#Exercise 10\n",
    "def send_messages(lists):\n",
    "    a = []\n",
    "    for i in lists:\n",
    "        a.append(i)\n",
    "    print(lists)\n",
    "    print(a)"
   ]
  },
  {
   "cell_type": "code",
   "execution_count": 59,
   "id": "428d9f3b",
   "metadata": {},
   "outputs": [
    {
     "name": "stdout",
     "output_type": "stream",
     "text": [
      "['this is', 'cool']\n",
      "['this is', 'cool']\n"
     ]
    }
   ],
   "source": [
    "send_messages(['this is', 'cool'])"
   ]
  },
  {
   "cell_type": "code",
   "execution_count": 61,
   "id": "17673e88",
   "metadata": {},
   "outputs": [],
   "source": [
    "#Exercise 11"
   ]
  },
  {
   "cell_type": "code",
   "execution_count": null,
   "id": "3a13a152",
   "metadata": {},
   "outputs": [],
   "source": []
  },
  {
   "cell_type": "code",
   "execution_count": null,
   "id": "362b9469",
   "metadata": {},
   "outputs": [],
   "source": []
  }
 ],
 "metadata": {
  "kernelspec": {
   "display_name": "Python 3 (ipykernel)",
   "language": "python",
   "name": "python3"
  },
  "language_info": {
   "codemirror_mode": {
    "name": "ipython",
    "version": 3
   },
   "file_extension": ".py",
   "mimetype": "text/x-python",
   "name": "python",
   "nbconvert_exporter": "python",
   "pygments_lexer": "ipython3",
   "version": "3.9.12"
  }
 },
 "nbformat": 4,
 "nbformat_minor": 5
}
